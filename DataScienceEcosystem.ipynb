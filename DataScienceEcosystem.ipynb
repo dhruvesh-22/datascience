{
 "cells": [
  {
   "cell_type": "markdown",
   "id": "47302bc5-cba5-4170-b45c-bf9625bca532",
   "metadata": {},
   "source": [
    "# Data Science Tools and Ecosystem\n",
    "In this notebook, Data Science Tools and Ecosystem are summarized."
   ]
  },
  {
   "cell_type": "markdown",
   "id": "a042f6f2-49d1-4c87-8ffa-5879366c083c",
   "metadata": {
    "tags": []
   },
   "source": [
    "Some of the popular languages that Data Scientists use are:\n",
    "1. Python\n",
    "2. R\n",
    "3. SQL\n",
    "4. Julia"
   ]
  },
  {
   "cell_type": "markdown",
   "id": "7524b8a0-a005-457b-aed5-b889fb4884e1",
   "metadata": {},
   "source": [
    "Some of the commonly used libraries used by Data Scientists include:\n",
    "1. NumPy\n",
    "2. Pandas\n",
    "3. Matpoltlib\n",
    "4. Scikit-learn\n",
    "5: TensorFlow"
   ]
  },
  {
   "cell_type": "markdown",
   "id": "3e366ea1-3f9e-4043-9f2f-68d2c0e048cf",
   "metadata": {},
   "source": [
    "Data Science Tools\n",
    "\n",
    "1. Jupyter Notebooks\n",
    "2. RStudio\n",
    "3. Visual Studio Code"
   ]
  },
  {
   "cell_type": "markdown",
   "id": "73e9357d-6c67-4b8c-a55a-b1cb38ef8603",
   "metadata": {},
   "source": [
    "### Below are a few examples of evaluating arithmetic expressions in Python"
   ]
  },
  {
   "cell_type": "code",
   "execution_count": 3,
   "id": "de7f36a1-0469-4ace-89ff-b1f936642dd4",
   "metadata": {
    "tags": []
   },
   "outputs": [
    {
     "data": {
      "text/plain": [
       "17"
      ]
     },
     "execution_count": 3,
     "metadata": {},
     "output_type": "execute_result"
    }
   ],
   "source": [
    "#This a simple arithmetic expression to mutiply then add integers\n",
    "(3 * 4) + 5"
   ]
  },
  {
   "cell_type": "code",
   "execution_count": 4,
   "id": "ec5a122c-7b43-4a1f-aa58-6951ccf500e4",
   "metadata": {
    "tags": []
   },
   "outputs": [
    {
     "data": {
      "text/plain": [
       "3.3333333333333335"
      ]
     },
     "execution_count": 4,
     "metadata": {},
     "output_type": "execute_result"
    }
   ],
   "source": [
    "#This will convert 200 minutes to hours by diving by 60\n",
    "200 / 60"
   ]
  },
  {
   "cell_type": "markdown",
   "id": "09b350cf-5751-4420-8870-40282e2676e4",
   "metadata": {},
   "source": [
    "__Objectives:__\n",
    "\n",
    "- List popular languages for Data Science\n",
    "- Commonly used libraries used by Data Scientists include\n",
    "- Data Science Tools"
   ]
  },
  {
   "cell_type": "markdown",
   "id": "692f2553-3412-4c43-9482-d18915440e6e",
   "metadata": {
    "tags": []
   },
   "source": [
    "## Author\n",
    "Dhruvesh Patel"
   ]
  },
  {
   "cell_type": "code",
   "execution_count": null,
   "id": "716b35e6-38db-4f64-b857-9d09bff6412d",
   "metadata": {},
   "outputs": [],
   "source": []
  },
  {
   "cell_type": "code",
   "execution_count": null,
   "id": "a1c9d53d-8b8c-4890-821c-dc23a1b817d2",
   "metadata": {},
   "outputs": [],
   "source": []
  }
 ],
 "metadata": {
  "kernelspec": {
   "display_name": "Python",
   "language": "python",
   "name": "conda-env-python-py"
  },
  "language_info": {
   "codemirror_mode": {
    "name": "ipython",
    "version": 3
   },
   "file_extension": ".py",
   "mimetype": "text/x-python",
   "name": "python",
   "nbconvert_exporter": "python",
   "pygments_lexer": "ipython3",
   "version": "3.7.12"
  }
 },
 "nbformat": 4,
 "nbformat_minor": 5
}
